{
  "nbformat": 4,
  "nbformat_minor": 0,
  "metadata": {
    "colab": {
      "provenance": [],
      "gpuType": "V100",
      "authorship_tag": "ABX9TyN2OkjyCrIFrOPKCXKh5BBR",
      "include_colab_link": true
    },
    "kernelspec": {
      "name": "python3",
      "display_name": "Python 3"
    },
    "language_info": {
      "name": "python"
    },
    "accelerator": "GPU"
  },
  "cells": [
    {
      "cell_type": "markdown",
      "metadata": {
        "id": "view-in-github",
        "colab_type": "text"
      },
      "source": [
        "<a href=\"https://colab.research.google.com/github/Krish77na/Amazon-review-s-Summarization/blob/main/Exp_4.ipynb\" target=\"_parent\"><img src=\"https://colab.research.google.com/assets/colab-badge.svg\" alt=\"Open In Colab\"/></a>"
      ]
    },
    {
      "cell_type": "code",
      "execution_count": 4,
      "metadata": {
        "colab": {
          "base_uri": "https://localhost:8080/"
        },
        "id": "7WEkHCFAgTXF",
        "outputId": "57c657ea-c9ec-4b4d-88d4-f6ffeb2174b4"
      },
      "outputs": [
        {
          "output_type": "stream",
          "name": "stderr",
          "text": [
            "<ipython-input-4-412b840ee1f2>:6: FutureWarning: The error_bad_lines argument has been deprecated and will be removed in a future version. Use on_bad_lines in the future.\n",
            "\n",
            "\n",
            "  data = pd.read_csv('Reviews[1].csv', nrows=100000, error_bad_lines=False)\n",
            "/usr/local/lib/python3.10/dist-packages/transformers/models/t5/tokenization_t5.py:240: FutureWarning: This tokenizer was incorrectly instantiated with a model max length of 512 which will be corrected in Transformers v5.\n",
            "For now, this behavior is kept to avoid breaking backwards compatibility when padding/encoding with `truncation is True`.\n",
            "- Be aware that you SHOULD NOT rely on t5-base automatically truncating your input to 512 when padding/encoding.\n",
            "- If you want to encode/pad to sequences longer than 512 you can either instantiate this tokenizer with `model_max_length` or pass `max_length` when encoding/padding.\n",
            "- To avoid this warning, please instantiate this tokenizer with `model_max_length` set to your preferred value.\n",
            "  warnings.warn(\n",
            "Special tokens have been added in the vocabulary, make sure the associated word embeddings are fine-tuned or trained.\n"
          ]
        },
        {
          "output_type": "stream",
          "name": "stdout",
          "text": [
            "Original Text: I have bought several of the Vitality canned dog food products and have found them all to be of good quality. The product looks more like a stew than a processed meat and it smells better. My Labrador is finicky and she appreciates this product better than  most.\n",
            "Original Summary: Good Quality Dog Food\n",
            "Generated Summary: my Labrador is finicky and she appreciates this product better than most. the product looks more like a stew than a processed meat and it smells better.\n",
            "\n",
            "Original Text: Product arrived labeled as Jumbo Salted Peanuts...the peanuts were actually small sized unsalted. Not sure if this was an error or if the vendor intended to represent the product as \"Jumbo\".\n",
            "Original Summary: Not as Advertised\n",
            "Generated Summary: the product arrived labeled as Jumbo Salted Peanuts...the peanuts were actually small sized unsalted. not sure if this was an error or if the vendor intended to represent the product as \"Jumbo\"\n",
            "\n",
            "Original Text: This is a confection that has been around a few centuries.  It is a light, pillowy citrus gelatin with nuts - in this case Filberts. And it is cut into tiny squares and then liberally coated with powdered sugar.  And it is a tiny mouthful of heaven.  Not too chewy, and very flavorful.  I highly recommend this yummy treat.  If you are familiar with the story of C.S. Lewis' \"The Lion, The Witch, and The Wardrobe\" - this is the treat that seduces Edmund into selling out his Brother and Sisters to the Witch.\n",
            "Original Summary: \"Delight\" says it all\n",
            "Generated Summary: if you are familiar with the story of C.S. Lewis' \"The Lion, The Witch, and The Wardrobe\" - this is the treat that seduces Edmund into selling out his Brother and Sisters to the Witch.\n",
            "\n",
            "Original Text: If you are looking for the secret ingredient in Robitussin I believe I have found it.  I got this in addition to the Root Beer Extract I ordered (which was good) and made some cherry soda.  The flavor is very medicinal.\n",
            "Original Summary: Cough Medicine\n",
            "Generated Summary: the secret ingredient in robitussin is a root beer extract. a cherry soda is made with the extract. the flavor is very medicinal. if you are looking for the secret ingredient in robitussin you have found it.\n",
            "\n",
            "Original Text: Great taffy at a great price.  There was a wide assortment of yummy taffy.  Delivery was very quick.  If your a taffy lover, this is a deal.\n",
            "Original Summary: Great taffy\n",
            "Generated Summary: delivery was very quick. if your a taffy lover, this is a deal. there was a wide assortment of yummy taffy at a great price.\n",
            "\n",
            "Original Text: I got a wild hair for taffy and ordered this five pound bag. The taffy was all very enjoyable with many flavors: watermelon, root beer, melon, peppermint, grape, etc. My only complaint is there was a bit too much red/black licorice-flavored pieces (just not my particular favorites). Between me, my kids, and my husband, this lasted only two weeks! I would recommend this brand of taffy -- it was a delightful treat.\n",
            "Original Summary: Nice Taffy\n",
            "Generated Summary: the taffy was all very enjoyable with many flavors: watermelon, root beer, melon, peppermint, grape, etc. between me, my kids, and my husband, this lasted only two weeks!\n",
            "\n",
            "Original Text: This saltwater taffy had great flavors and was very soft and chewy.  Each candy was individually wrapped well.  None of the candies were stuck together, which did happen in the expensive version, Fralinger's.  Would highly recommend this candy!  I served it at a beach-themed party and everyone loved it!\n",
            "Original Summary: Great!  Just as good as the expensive brands!\n",
            "Generated Summary: this saltwater taffy had great flavors and was very soft and chewy. none of the candies were stuck together, which did happen in the expensive version. I served it at a beach-themed party and everyone loved it.\n",
            "\n",
            "Original Text: This taffy is so good.  It is very soft and chewy.  The flavors are amazing.  I would definitely recommend you buying it.  Very satisfying!!\n",
            "Original Summary: Wonderful, tasty taffy\n",
            "Generated Summary: this taffy is so good. It is very soft and chewy. the flavors are amazing. I would definitely recommend you buying it. taffy is very soft and chewy.\n",
            "\n",
            "Original Text: Right now I'm mostly just sprouting this so my cats can eat the grass. They love it. I rotate it around with Wheatgrass and Rye too\n",
            "Original Summary: Yay Barley\n",
            "Generated Summary: right now I'm mostly just sprouting this so my cats can eat the grass. I rotate it around with Wheatgrass and Rye too. I rotate it around with Wheatgrass and Rye too.\n",
            "\n",
            "Original Text: This is a very healthy dog food. Good for their digestion. Also good for small puppies. My dog eats her required amount at every feeding.\n",
            "Original Summary: Healthy Dog Food\n",
            "Generated Summary: my dog eats her required amount at every feeding. this is a very healthy dog food. Good for their digestion. Also good for small puppies. my dog eats her required amount at every feeding.\n",
            "\n",
            "Original Text: I don't know if it's the cactus or the tequila or just the unique combination of ingredients, but the flavour of this hot sauce makes it one of a kind!  We picked up a bottle once on a trip we were on and brought it back home with us and were totally blown away!  When we realized that we simply couldn't find it anywhere in our city we were bummed.<br /><br />Now, because of the magic of the internet, we have a case of the sauce and are ecstatic because of it.<br /><br />If you love hot sauce..I mean really love hot sauce, but don't want a sauce that tastelessly burns your throat, grab a bottle of Tequila Picante Gourmet de Inclan.  Just realize that once you taste it, you will never want to use any other sauce.<br /><br />Thank you for the personal, incredible service!\n",
            "Original Summary: The Best Hot Sauce in the World\n",
            "Generated Summary: tequila Picante Gourmet de Inclan is a one of a kind hot sauce. if you love hot sauce, but don't want a sauce that tastelessly burns your throat, grab a bottle.\n",
            "\n",
            "Original Text: One of my boys needed to lose some weight and the other didn't.  I put this food on the floor for the chubby guy, and the protein-rich, no by-product food up higher where only my skinny boy can jump.  The higher food sits going stale.  They both really go for this food.  And my chubby boy has been losing about an ounce a week.\n",
            "Original Summary: My cats LOVE this \"diet\" food better than their regular food\n",
            "Generated Summary: my chubby boy has been losing about an ounce a week. the higher food sits going stale. my chubby boy has been losing about an ounce a week.\n",
            "\n",
            "Original Text: My cats have been happily eating Felidae Platinum for more than two years. I just got a new bag and the shape of the food is different. They tried the new food when I first put it in their bowls and now the bowls sit full and the kitties will not touch the food. I've noticed similar reviews related to formula changes in the past. Unfortunately, I now need to find a new food that my cats will eat.\n",
            "Original Summary: My Cats Are Not Fans of the New Food\n",
            "Generated Summary: my cats have been happily eating Felidae Platinum for more than two years. I just got a new bag and the shape of the food is different. unfortunately, unfortunately, my cats will not touch the food.\n",
            "\n",
            "Original Text: good flavor! these came securely packed... they were fresh and delicious! i love these Twizzlers!\n",
            "Original Summary: fresh and greasy!\n",
            "Generated Summary: cnn.com's ireport boot camp challenges ireport. cnn.com has a complete list of all the challenges it has faced.\n",
            "\n",
            "Original Text: The Strawberry Twizzlers are my guilty pleasure - yummy. Six pounds will be around for a while with my son and I.\n",
            "Original Summary: Strawberry Twizzlers - Yummy\n",
            "Generated Summary: the Strawberry Twizzlers are my guilty pleasure - yummy. i'll be around for a while with my son and i - six pounds will be around for a while with my son and i.\n",
            "\n",
            "Original Text: My daughter loves twizzlers and this shipment of six pounds really hit the spot. It's exactly what you would expect...six packages of strawberry twizzlers.\n",
            "Original Summary: Lots of twizzlers, just what you expect.\n",
            "Generated Summary: my daughter loves twizzlers and this shipment of six pounds really hit the spot. it's exactly what you would expect...six packages of strawberry twizzlers.\n",
            "\n",
            "Original Text: I love eating them and they are good for watching TV and looking at movies! It is not too sweet. I like to transfer them to a zip lock baggie so they stay fresh so I can take my time eating them.\n",
            "Original Summary: poor taste\n",
            "Generated Summary: I like to transfer them to a zip lock baggie so they stay fresh so I can take my time eating them. they are good for watching tv and looking at movies!\n",
            "\n",
            "Original Text: I am very satisfied with my Twizzler purchase.  I shared these with others and we have all enjoyed them.  I will definitely be ordering more.\n",
            "Original Summary: Love it!\n",
            "Generated Summary: I am very satisfied with my Twizzler purchase. i shared these with others and we have all enjoyed them. i will definitely be ordering more Twizzlers.\n",
            "\n",
            "Original Text: Twizzlers, Strawberry my childhood favorite candy, made in Lancaster Pennsylvania by Y & S Candies, Inc. one of the oldest confectionery Firms in the United States, now a Subsidiary of the Hershey Company, the Company was established in 1845 as Young and Smylie, they also make Apple Licorice Twists, Green Color and Blue Raspberry Licorice Twists, I like them all<br /><br />I keep it in a dry cool place because is not recommended it to put it in the fridge. According to the Guinness Book of Records, the longest Licorice Twist ever made measured 1.200 Feet (370 M) and weighted 100 Pounds (45 Kg) and was made by Y & S Candies, Inc. This Record-Breaking Twist became a Guinness World Record on July 19, 1998. This Product is Kosher! Thank You\n",
            "Original Summary: GREAT SWEET CANDY!\n",
            "Generated Summary: the longest Licorice Twist ever made measured 1.200 Feet (370 M) and weighted 100 Pounds (45 Kg) according to the Guinness Book of Records, this record-breaking Twist became a Guinness World Record on July 19, 1998.\n",
            "\n",
            "Original Text: Candy was delivered very fast and was purchased at a reasonable price.  I was home bound and unable to get to a store so this was perfect for me.\n",
            "Original Summary: Home delivered twizlers\n",
            "Generated Summary: candy was delivered very fast and was purchased at a reasonable price. i was home bound and unable to get to a store so this was perfect for me. candy was delivered very fast and was purchased at a reasonable price.\n",
            "\n"
          ]
        }
      ],
      "source": [
        "import torch\n",
        "from transformers import T5ForConditionalGeneration, T5Tokenizer\n",
        "import pandas as pd\n",
        "\n",
        "# Load the dataset\n",
        "data = pd.read_csv('Reviews[1].csv', nrows=100000, error_bad_lines=False)\n",
        "\n",
        "# Initialize the T5 model and tokenizer\n",
        "model = T5ForConditionalGeneration.from_pretrained('t5-base')\n",
        "tokenizer = T5Tokenizer.from_pretrained('t5-base')\n",
        "\n",
        "def summarize_text(text):\n",
        "    input_text = \"summarize: \" + text\n",
        "    input_ids = tokenizer.encode(input_text, return_tensors='pt', max_length=512, truncation=True)\n",
        "    summary_ids = model.generate(input_ids, max_length=150, min_length=40, length_penalty=2.0, num_beams=4, early_stopping=True)\n",
        "    summary = tokenizer.decode(summary_ids[0], skip_special_tokens=True)\n",
        "    return summary\n",
        "\n",
        "# Process and print summaries for the first few rows\n",
        "num_rows_to_process = 20  # You can adjust this number\n",
        "for i in range(num_rows_to_process):\n",
        "    original_text = data['Text'][i]\n",
        "    original_summary = data['Summary'][i]\n",
        "    generated_summary = summarize_text(original_text)\n",
        "    print(f\"Original Text: {original_text}\\nOriginal Summary: {original_summary}\\nGenerated Summary: {generated_summary}\\n\")\n"
      ]
    },
    {
      "cell_type": "code",
      "source": [
        "!pip install nltk rouge\n"
      ],
      "metadata": {
        "colab": {
          "base_uri": "https://localhost:8080/"
        },
        "id": "38mGv01mo1pA",
        "outputId": "34b51ca9-9af6-429c-e805-59dfeb0dc989"
      },
      "execution_count": 5,
      "outputs": [
        {
          "output_type": "stream",
          "name": "stdout",
          "text": [
            "Requirement already satisfied: nltk in /usr/local/lib/python3.10/dist-packages (3.8.1)\n",
            "Collecting rouge\n",
            "  Downloading rouge-1.0.1-py3-none-any.whl (13 kB)\n",
            "Requirement already satisfied: click in /usr/local/lib/python3.10/dist-packages (from nltk) (8.1.7)\n",
            "Requirement already satisfied: joblib in /usr/local/lib/python3.10/dist-packages (from nltk) (1.3.2)\n",
            "Requirement already satisfied: regex>=2021.8.3 in /usr/local/lib/python3.10/dist-packages (from nltk) (2023.6.3)\n",
            "Requirement already satisfied: tqdm in /usr/local/lib/python3.10/dist-packages (from nltk) (4.66.1)\n",
            "Requirement already satisfied: six in /usr/local/lib/python3.10/dist-packages (from rouge) (1.16.0)\n",
            "Installing collected packages: rouge\n",
            "Successfully installed rouge-1.0.1\n"
          ]
        }
      ]
    },
    {
      "cell_type": "code",
      "source": [
        "import nltk\n",
        "from rouge import Rouge\n",
        "from nltk.translate.bleu_score import sentence_bleu\n",
        "from nltk.translate.meteor_score import meteor_score\n",
        "from nltk.tokenize import word_tokenize\n",
        "\n",
        "# Ensure that NLTK's required resources are downloaded\n",
        "nltk.download('punkt')\n",
        "nltk.download('wordnet')\n",
        "\n",
        "def calculate_scores(original_summaries, generated_summaries):\n",
        "    bleu_scores, meteor_scores, rouge_scores = [], [], []\n",
        "    rouge = Rouge()\n",
        "\n",
        "    for original, generated in zip(original_summaries, generated_summaries):\n",
        "        # Tokenize the sentences for BLEU and METEOR\n",
        "        original_tokens = word_tokenize(original)\n",
        "        generated_tokens = word_tokenize(generated)\n",
        "\n",
        "        # BLEU Score\n",
        "        bleu_scores.append(sentence_bleu([original_tokens], generated_tokens, weights=(0.25, 0.25, 0.25, 0.25)))\n",
        "\n",
        "        # METEOR Score\n",
        "        meteor_scores.append(meteor_score([original_tokens], generated_tokens))\n",
        "\n",
        "        # ROUGE Score\n",
        "        original_str = ' '.join(original_tokens)\n",
        "        generated_str = ' '.join(generated_tokens)\n",
        "        scores = rouge.get_scores(generated_str, original_str)\n",
        "        rouge_scores.append(scores[0])\n",
        "\n",
        "    avg_bleu = sum(bleu_scores) / len(bleu_scores)\n",
        "    avg_meteor = sum(meteor_scores) / len(meteor_scores)\n",
        "    avg_rouge = {\n",
        "        'rouge-1': sum(score['rouge-1']['f'] for score in rouge_scores) / len(rouge_scores),\n",
        "        'rouge-2': sum(score['rouge-2']['f'] for score in rouge_scores) / len(rouge_scores),\n",
        "        'rouge-l': sum(score['rouge-l']['f'] for score in rouge_scores) / len(rouge_scores)\n",
        "    }\n",
        "\n",
        "    return avg_bleu, avg_meteor, avg_rouge\n",
        "\n",
        "# Assuming you have lists of original summaries and generated summaries\n",
        "original_summaries = data['Summary'].tolist()[:20]\n",
        "generated_summaries = [summarize_text(text) for text in data['Text'].tolist()[:20]]\n",
        "\n",
        "# Calculate scores\n",
        "bleu, meteor, rouge = calculate_scores(original_summaries, generated_summaries)\n",
        "\n",
        "print(f\"Average BLEU Score: {bleu}\")\n",
        "print(f\"Average METEOR Score: {meteor}\")\n",
        "print(f\"Average ROUGE Scores: {rouge}\")\n"
      ],
      "metadata": {
        "colab": {
          "base_uri": "https://localhost:8080/"
        },
        "id": "4kLY0Pavoy6Y",
        "outputId": "dfc84a49-325e-4957-f0a7-37ecc0458fa8"
      },
      "execution_count": 14,
      "outputs": [
        {
          "output_type": "stream",
          "name": "stderr",
          "text": [
            "[nltk_data] Downloading package punkt to /root/nltk_data...\n",
            "[nltk_data]   Package punkt is already up-to-date!\n",
            "[nltk_data] Downloading package wordnet to /root/nltk_data...\n",
            "[nltk_data]   Package wordnet is already up-to-date!\n"
          ]
        },
        {
          "output_type": "stream",
          "name": "stdout",
          "text": [
            "Average BLEU Score: 6.599021204148359e-156\n",
            "Average METEOR Score: 0.14145968133253833\n",
            "Average ROUGE Scores: {'rouge-1': 0.06129745938166494, 'rouge-2': 0.011251293417730132, 'rouge-l': 0.06129745938166494}\n"
          ]
        },
        {
          "output_type": "stream",
          "name": "stderr",
          "text": [
            "/usr/local/lib/python3.10/dist-packages/nltk/translate/bleu_score.py:552: UserWarning: \n",
            "The hypothesis contains 0 counts of 2-gram overlaps.\n",
            "Therefore the BLEU score evaluates to 0, independently of\n",
            "how many N-gram overlaps of lower order it contains.\n",
            "Consider using lower n-gram order or use SmoothingFunction()\n",
            "  warnings.warn(_msg)\n",
            "/usr/local/lib/python3.10/dist-packages/nltk/translate/bleu_score.py:552: UserWarning: \n",
            "The hypothesis contains 0 counts of 3-gram overlaps.\n",
            "Therefore the BLEU score evaluates to 0, independently of\n",
            "how many N-gram overlaps of lower order it contains.\n",
            "Consider using lower n-gram order or use SmoothingFunction()\n",
            "  warnings.warn(_msg)\n",
            "/usr/local/lib/python3.10/dist-packages/nltk/translate/bleu_score.py:552: UserWarning: \n",
            "The hypothesis contains 0 counts of 4-gram overlaps.\n",
            "Therefore the BLEU score evaluates to 0, independently of\n",
            "how many N-gram overlaps of lower order it contains.\n",
            "Consider using lower n-gram order or use SmoothingFunction()\n",
            "  warnings.warn(_msg)\n"
          ]
        }
      ]
    }
  ]
}